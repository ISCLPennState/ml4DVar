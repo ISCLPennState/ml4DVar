{
 "cells": [
  {
   "cell_type": "code",
   "execution_count": 3,
   "metadata": {},
   "outputs": [],
   "source": [
    "import yaml\n",
    "import os\n",
    "import datetime"
   ]
  },
  {
   "cell_type": "code",
   "execution_count": 32,
   "metadata": {},
   "outputs": [],
   "source": [
    "da_root_dir = os.path.join('/eagle','MDClimSim','mjp5595')\n",
    "save_dir_name = 'var3d_NMC12hrB_denseERA5Obs_uvwind'\n",
    "\n",
    "# Set some vars for config file\n",
    "da_type = 'var3d'\n",
    "da_window = 12\n",
    "model_step = 6\n",
    "obs_steps = 1\n",
    "if da_type == 'var4d':\n",
    "    obs_steps = da_window // model_step # 4dVar\n",
    "da_info = {\n",
    "    'da': {\n",
    "        'da_type':da_type,\n",
    "        'b_inflation':1,\n",
    "        'max_iter':700,\n",
    "        'da_window':da_window,\n",
    "        'da_root_dir':da_root_dir,\n",
    "        'save_dir_name':save_dir_name,\n",
    "    },\n",
    "    'model': {\n",
    "        'model_step':model_step,\n",
    "        'model_name':'stormer',\n",
    "        'ckpt_pth':os.path.join(da_root_dir,'ml4dvar','stormer','checkpoints','epoch_015.ckpt'),\n",
    "    },\n",
    "    'obs': {\n",
    "        'obs_filepath':os.path.join(da_root_dir,'ml4dvar','obs','era5_obs.h5'),\n",
    "        'start': {\n",
    "            'year':2014,\n",
    "            'month':1,\n",
    "            'day':1,\n",
    "            'hour':0,\n",
    "        },\n",
    "        'end': {\n",
    "            'year':2015,\n",
    "            'month':12,\n",
    "            'day':31,\n",
    "            'hour':12,\n",
    "        },\n",
    "        'use_only_recent_obs':True,\n",
    "        'obs_freq':3,\n",
    "        'obs_steps':obs_steps,\n",
    "    },\n",
    "    'data': {\n",
    "        'background_file_np':os.path.join(da_root_dir,'ml4dvar','data','background_init_norm_hr12.npy'),\n",
    "        'means_file':os.path.join(da_root_dir,'ml4dvar','data','normalize_mean.npz'),\n",
    "        'stds_file':os.path.join(da_root_dir,'ml4dvar','data','normalize_std.npz'),\n",
    "        'dv_param_file':os.path.join(da_root_dir,'ml4dvar','data','dv_params_128_256.hdf5'),\n",
    "    },\n",
    "    'error_covariance': {\n",
    "        'background_err_file': {\n",
    "            0:os.path.join(da_root_dir,'ml4dvar','stormer','data','sh_12hr_stormer_norm.npy'),\n",
    "            #6:os.path.join(da_root_dir,'ml4dvar','stormer','data','sh_12hr_stormer_vs_era5_06.npy'),\n",
    "            12:os.path.join(da_root_dir,'ml4dvar','stormer','data','sh_12hr_stormer_norm.npy'),\n",
    "            #18:os.path.join(da_root_dir,'ml4dvar','stormer','data','sh_12hr_stormer_vs_era5_15.npy'),\n",
    "        },\n",
    "        'background_err_hf_file': {\n",
    "            0:os.path.join(da_root_dir,'ml4dvar','stormer','data','hf_12hr_stormer_norm.npy'),\n",
    "            #6:os.path.join(da_root_dir,'ml4dvar','stormer','data','hf_12hr_stormer_vs_era5_06.npy'),\n",
    "            12:os.path.join(da_root_dir,'ml4dvar','stormer','data','hf_12hr_stormer_norm.npy'),\n",
    "            #18:os.path.join(da_root_dir,'ml4dvar','stormer','data','hf_12hr_stormer_vs_era5_15.npy'),\n",
    "        },\n",
    "    }\n",
    "}"
   ]
  },
  {
   "cell_type": "code",
   "execution_count": 33,
   "metadata": {},
   "outputs": [],
   "source": [
    "with open(os.path.join(da_root_dir,'ml4dvar','configs',save_dir_name+'.yml'),'w') as yamlfile:\n",
    "    data = yaml.dump(da_info, yamlfile)"
   ]
  },
  {
   "cell_type": "code",
   "execution_count": null,
   "metadata": {},
   "outputs": [],
   "source": []
  }
 ],
 "metadata": {
  "kernelspec": {
   "display_name": "climaX",
   "language": "python",
   "name": "climax"
  },
  "language_info": {
   "codemirror_mode": {
    "name": "ipython",
    "version": 3
   },
   "file_extension": ".py",
   "mimetype": "text/x-python",
   "name": "python",
   "nbconvert_exporter": "python",
   "pygments_lexer": "ipython3",
   "version": "3.8.16"
  }
 },
 "nbformat": 4,
 "nbformat_minor": 2
}
