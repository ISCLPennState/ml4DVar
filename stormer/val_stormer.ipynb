{
 "cells": [
  {
   "cell_type": "code",
   "execution_count": 1,
   "metadata": {},
   "outputs": [
    {
     "name": "stderr",
     "output_type": "stream",
     "text": [
      "/home/mjp5595/.conda/envs/climaX/lib/python3.8/site-packages/torchvision/io/image.py:13: UserWarning: Failed to load image Python extension: libtorch_cuda_cu.so: cannot open shared object file: No such file or directory\n",
      "  warn(f\"Failed to load image Python extension: {e}\")\n",
      "/home/mjp5595/.conda/envs/climaX/lib/python3.8/site-packages/transformers/utils/generic.py:441: UserWarning: torch.utils._pytree._register_pytree_node is deprecated. Please use torch.utils._pytree.register_pytree_node instead.\n",
      "  _torch_pytree._register_pytree_node(\n"
     ]
    }
   ],
   "source": [
    "import torch\n",
    "import torch_harmonics as th\n",
    "import numpy as np\n",
    "import os \n",
    "import h5py\n",
    "import glob\n",
    "import sys\n",
    "\n",
    "from varsStormer import varsStormer\n",
    "from stormer_utils_pangu import StormerWrapperPangu"
   ]
  },
  {
   "cell_type": "code",
   "execution_count": 15,
   "metadata": {},
   "outputs": [],
   "source": [
    "def read_era5(data,vars_stormer):\n",
    "    data_np = np.zeros((len(vars_stormer),128,256))\n",
    "    for i,var in enumerate(vars_stormer):\n",
    "        data_np[i] = data['input/{}'.format(var)][:]\n",
    "    return data_np\n",
    "\n",
    "def norm_era5(data_np,vars_stormer,stormer_wrapper):\n",
    "    data_torch = torch.from_numpy(data_np)\n",
    "    data_torch_norm = stormer_wrapper.inp_transform(data_torch)\n",
    "    data_np_norm = data_torch_norm.numpy()\n",
    "    return data_np_norm"
   ]
  },
  {
   "cell_type": "code",
   "execution_count": 16,
   "metadata": {},
   "outputs": [
    {
     "name": "stdout",
     "output_type": "stream",
     "text": [
      "checkpoint model loaded\n"
     ]
    }
   ],
   "source": [
    "forecast_dir = '/eagle/MDClimSim/mjp5595/data/stormer/stormer_forecasts_2017_norm/'\n",
    "era5_dir = '/eagle/MDClimSim/tungnd/data/wb2/1.40625deg_from_full_res_1_step_6hr_h5df/train/'\n",
    "\n",
    "vars_stormer = varsStormer().vars_stormer\n",
    "\n",
    "stormer_wrapper = StormerWrapperPangu(\n",
    "    root_dir='/eagle/MDClimSim/tungnd/data/wb2/1.40625deg_from_full_res_1_step_6hr_h5df/',\n",
    "    variables=vars_stormer,\n",
    "    net=None,\n",
    "    base_lead_time=[6],\n",
    "    ckpt=None,\n",
    "    device=None,\n",
    ")"
   ]
  },
  {
   "cell_type": "code",
   "execution_count": 22,
   "metadata": {},
   "outputs": [],
   "source": [
    "forecasts_raw = h5py.File(os.path.join(forecast_dir,'raw_0000.h5'),'r')\n",
    "forecasts_norm = h5py.File(os.path.join(forecast_dir,'norm_0000.h5'),'r')\n",
    "gt_0 = h5py.File(os.path.join(era5_dir,'2017_0000.h5'),'r')\n",
    "gt_6 = h5py.File(os.path.join(era5_dir,'2017_0001.h5'),'r')"
   ]
  },
  {
   "cell_type": "code",
   "execution_count": 23,
   "metadata": {},
   "outputs": [
    {
     "name": "stdout",
     "output_type": "stream",
     "text": [
      "diff_init : 0.0\n",
      "diff_pred_vs_gt : 305.671875\n",
      "diff_pred_vs_init : 2019.2266\n"
     ]
    }
   ],
   "source": [
    "# This Validates the forecasts in /stormer/stormer_forecasts_2017_norm/ vs ground truth\n",
    "\n",
    "diff_init = forecasts_raw['0'][:] - read_era5(gt_0,vars_stormer)\n",
    "print('diff_init :',np.max(diff_init))\n",
    "diff_pred_vs_gt = forecasts_raw['6'][:] - read_era5(gt_6,vars_stormer)\n",
    "print('diff_pred_vs_gt :',np.max(diff_pred_vs_gt))\n",
    "diff_pred_vs_init = forecasts_raw['6'][:] - forecasts_raw['0'][:]\n",
    "print('diff_pred_vs_init :',np.max(diff_pred_vs_init))"
   ]
  },
  {
   "cell_type": "code",
   "execution_count": null,
   "metadata": {},
   "outputs": [],
   "source": []
  }
 ],
 "metadata": {
  "kernelspec": {
   "display_name": "climaX",
   "language": "python",
   "name": "climax"
  },
  "language_info": {
   "codemirror_mode": {
    "name": "ipython",
    "version": 3
   },
   "file_extension": ".py",
   "mimetype": "text/x-python",
   "name": "python",
   "nbconvert_exporter": "python",
   "pygments_lexer": "ipython3",
   "version": "3.8.16"
  }
 },
 "nbformat": 4,
 "nbformat_minor": 2
}
