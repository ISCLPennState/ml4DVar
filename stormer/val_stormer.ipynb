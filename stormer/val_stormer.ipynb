{
 "cells": [
  {
   "cell_type": "code",
   "execution_count": 14,
   "metadata": {},
   "outputs": [],
   "source": [
    "import torch\n",
    "import torch_harmonics as th\n",
    "import numpy as np\n",
    "import os \n",
    "import h5py\n",
    "import glob\n",
    "import sys\n",
    "import matplotlib.pyplot as plt\n",
    "%matplotlib inline\n",
    "\n",
    "from varsStormer import varsStormer\n",
    "from stormer_utils_pangu import StormerWrapperPangu"
   ]
  },
  {
   "cell_type": "code",
   "execution_count": 2,
   "metadata": {},
   "outputs": [],
   "source": [
    "def read_era5(data,vars_stormer):\n",
    "    data_np = np.zeros((len(vars_stormer),128,256))\n",
    "    for i,var in enumerate(vars_stormer):\n",
    "        data_np[i] = data['input/{}'.format(var)][:]\n",
    "    return data_np\n",
    "\n",
    "def norm_era5(data_np,vars_stormer,stormer_wrapper):\n",
    "    data_torch = torch.from_numpy(data_np)\n",
    "    data_torch_norm = stormer_wrapper.inp_transform(data_torch)\n",
    "    data_np_norm = data_torch_norm.numpy()\n",
    "    return data_np_norm"
   ]
  },
  {
   "cell_type": "code",
   "execution_count": 3,
   "metadata": {},
   "outputs": [
    {
     "name": "stdout",
     "output_type": "stream",
     "text": [
      "checkpoint model loaded\n"
     ]
    }
   ],
   "source": [
    "forecast_dir = '/eagle/MDClimSim/mjp5595/data/stormer/stormer_forecasts_2017_norm/'\n",
    "era5_dir = '/eagle/MDClimSim/tungnd/data/wb2/1.40625deg_from_full_res_1_step_6hr_h5df/train/'\n",
    "\n",
    "vars_stormer = varsStormer().vars_stormer\n",
    "\n",
    "stormer_wrapper = StormerWrapperPangu(\n",
    "    root_dir='/eagle/MDClimSim/tungnd/data/wb2/1.40625deg_from_full_res_1_step_6hr_h5df/',\n",
    "    variables=vars_stormer,\n",
    "    net=None,\n",
    "    base_lead_time=[6],\n",
    "    ckpt=None,\n",
    "    device=None,\n",
    ")"
   ]
  },
  {
   "cell_type": "code",
   "execution_count": 10,
   "metadata": {},
   "outputs": [],
   "source": [
    "init_forecasts_norm = h5py.File('/eagle/MDClimSim/mjp5595/data/stormer/stormer_init_12hr_forecast/norm_0002.h5','r')\n",
    "init_forecasts_raw = h5py.File('/eagle/MDClimSim/mjp5595/data/stormer/stormer_init_12hr_forecast/raw_0002.h5','r')\n",
    "analysis_forecasts_norm = h5py.File('/eagle/MDClimSim/mjp5595/data/stormer/var3d_troyB_12init_gpu0/data/forecasts_0_1201012014.h5','r')\n",
    "analysis_forecasts_raw = h5py.File('/eagle/MDClimSim/mjp5595/data/stormer/var3d_troyB_12init_gpu0/data/raw_forecasts_0_1201012014.h5','r')\n",
    "era5_dir = '/eagle/MDClimSim/tungnd/data/wb2/1.40625deg_from_full_res_1_step_6hr_h5df/train/'"
   ]
  },
  {
   "cell_type": "code",
   "execution_count": 13,
   "metadata": {},
   "outputs": [
    {
     "data": {
      "text/plain": [
       "'96'"
      ]
     },
     "execution_count": 13,
     "metadata": {},
     "output_type": "execute_result"
    }
   ],
   "source": [
    "# init_forecasts_raw['0'].shape # (69,128,256)\n",
    "# max(init_forecasts_raw.keys()) # 96\n",
    "\n",
    "lon = np.linspace(0,360,256)\n",
    "lat = np.linspace(90,-90,128)\n",
    "\n",
    "fig = plt.figure(figsize=(15,10))\n",
    "axs = []\n",
    "\n",
    "hrs_to_plot = [0,24,72,96]\n",
    "for i,hr in enumerate(hrs_to_plot):\n",
    "    gt = h5py.File(os.path.join(era5_dir,'2017_{:0>4d}.h5'.format(2+int(hr))),'r')\n",
    "    init_fc = init_forecasts_raw[str(hr)]\n",
    "    ana_fc = analysis_forecasts_raw[str(hr)]\n",
    "    init_increment = init_fc - gt\n",
    "    ana_increment = ana_fc - gt\n",
    "\n",
    "    inc_min = min(inc_min,np.min(init_increment),np.min(ana_increment))\n",
    "    inc_max = max(inc_max,np.max(init_increment),np.max(ana_increment))\n",
    "\n",
    "perts = []\n",
    "for i,hr in enumerate(hrs_to_plot):\n",
    "    gt = h5py.File(os.path.join(era5_dir,'2017_{:0>4d}.h5'.format(2+int(hr))),'r')\n",
    "    init_fc = init_forecasts_raw[str(hr)]\n",
    "    ana_fc = analysis_forecasts_raw[str(hr)]\n",
    "    \n",
    "    print('Plotting hr forecast :',hr)\n",
    "    init_increment = init_fc - gt\n",
    "    ana_increment = ana_fc - gt\n",
    "\n",
    "\n",
    "    str_int = '43' + str((i*3)+1)\n",
    "    axs.append(fig.add_subplot(int(str_int)))\n",
    "    perts.append(axs[-1].pcolormesh(lon, lat, init_increment[0], cmap=cm.coolwarm, norm=colors.SymLogNorm(linthresh=1,vmin=inc_min,vmax=inc_max)))\n",
    "\n",
    "    str_int = '43' + str((i*3)+2)\n",
    "    axs.append(fig.add_subplot(int(str_int)))\n",
    "    perts.append(axs[-1].pcolormesh(lon, lat, ana_increment[0], cmap=cm.coolwarm, norm=colors.SymLogNorm(linthresh=1,vmin=inc_min,vmax=inc_max)))\n",
    "\n",
    "    str_int = '43' + str((i*3)+3)\n",
    "    axs.append(fig.add_subplot(int(str_int)))\n",
    "    perts.append(axs[-1].pcolormesh(lon, lat, gt[0], cmap='virdis'))"
   ]
  },
  {
   "cell_type": "code",
   "execution_count": null,
   "metadata": {},
   "outputs": [],
   "source": [
    "\n",
    "# Plotting the results\n",
    "forecast_step = 39 \n",
    "lon = np.linspace(0,360,256)\n",
    "lat = np.linspace(90,-90,128)\n",
    "\n",
    "#fig, axs = plt.subplots(3, 3, sharex = True, sharey = True, figsize = (15,10))\n",
    "#fig, axs = plt.subplots(3, 3, figsize = (15,10))\n",
    "fig = plt.figure(figsize=(15,10))\n",
    "axs = []\n",
    "\n",
    "# Get original forecast\n",
    "axs00 = fig.add_subplot(331)\n",
    "axs.append(axs00)\n",
    "hf = h5py.File(os.path.join(save_dir, 'raw_forecast_noise{}.h5'.format(noise_levels[0])),'r')\n",
    "print('hf.keys() :',hf.keys())\n",
    "forecast_orig = hf[str(forecast_step)][0]\n",
    "print('forecast_orig.shape :',forecast_orig.shape)\n",
    "axs00.invert_yaxis()\n",
    "pc_orig = axs00.pcolormesh(lon, lat, forecast_orig[0], cmap = 'viridis')\n",
    "plt.colorbar(pc_orig, ax = axs00, label='K')\n",
    "axs00.set_title('Unperturbed Forecast')\n",
    "\n",
    "# plot perturbations\n",
    "axs01 = fig.add_subplot(332, sharey=axs00, sharex=axs00)\n",
    "axs.append(axs01)\n",
    "perturbations = diffs[0]\n",
    "cmap = colors.ListedColormap(['blue','white','red'])\n",
    "bounds = [-1.5,-0.5,0.5,1.5]\n",
    "#axs01.invert_yaxis()\n",
    "perts = axs01.pcolormesh(lon, lat, perturbations[0], cmap=cmap)\n",
    "axs01.set_title('Perturbation sign/locations')\n",
    "\n",
    "######################################################################################################################\n",
    "# This block is to get the min and max increment values\n",
    "######################################################################################################################\n",
    "inc_min = 0\n",
    "inc_max = 0\n",
    "for idx,noise_level in enumerate(noise_levels[1:]):\n",
    "    print('Plotting noise level :',noise_level)\n",
    "    hf = h5py.File(os.path.join(save_dir, 'raw_forecast_noise{}.h5'.format(noise_level)),'r')\n",
    "    forecast_perturbed = hf[str(forecast_step)][0]\n",
    "\n",
    "    increment = forecast_perturbed - forecast_orig\n",
    "    increment = np.where(perturbations!=0,0,increment)\n",
    "    inc_min = min(inc_min,np.min(increment[0]))\n",
    "    inc_max = max(inc_max,np.max(increment[0]))\n",
    "    #inc_min = min(inc_min,np.min(np.log(abs(increment))))\n",
    "    #inc_max = max(inc_max,np.max(np.log(abs(increment))))\n",
    "######################################################################################################################\n",
    "######################################################################################################################\n",
    "\n",
    "# get analysis and mse of perturbed forecasts\n",
    "perts = []\n",
    "noise_mses = {}\n",
    "for idx,noise_level in enumerate(noise_levels[1:]):\n",
    "    print('Plotting noise level :',noise_level)\n",
    "    hf = h5py.File(os.path.join(save_dir, 'raw_forecast_noise{}.h5'.format(noise_level)),'r')\n",
    "    forecast_perturbed = hf[str(forecast_step)][0]\n",
    "\n",
    "    increment = forecast_perturbed - forecast_orig\n",
    "    increment = np.where(perturbations!=0,0,increment)\n",
    "\n",
    "    mse = np.mean(np.square(increment))\n",
    "    noise_mses[noise_level] = mse\n",
    "\n",
    "    str_int = '33' + str(idx+4)\n",
    "    axs.append(fig.add_subplot(int(str_int), sharey=axs00, sharex=axs00))\n",
    "    #axs[-1].invert_yaxis()\n",
    "    #perts.append(axs[-1].pcolormesh(lon, lat, increment[0], cmap=cm.coolwarm, norm=colors.Normalize(inc_min,inc_max)))\n",
    "    #perts.append(axs[-1].pcolormesh(lon, lat, increment[0], cmap='viridis', norm=colors.CenteredNorm(vmin=inc_min,vcenter=0,vmax=inc_max)))\n",
    "    #perts.append(axs[-1].pcolormesh(lon, lat, increment[0], cmap=cm.coolwarm, norm=colors.CenteredNorm(vcenter=0)))\n",
    "\n",
    "    #twoSlope = colors.TwoSlopeNorm(vmin=inc_min, vcenter=0, vmax=inc_max)\n",
    "    #perts.append(axs[-1].pcolormesh(lon, lat, increment[0], cmap='viridis', norm=colors.LogNorm(inc_min,inc_max)))\n",
    "    #perts.append(axs[-1].pcolormesh(lon, lat, increment[0], cmap=cm.coolwarm, norm=colors.SymLogNorm(linthresh=0.0001)))\n",
    "    perts.append(axs[-1].pcolormesh(lon, lat, increment[0], cmap=cm.coolwarm, norm=colors.SymLogNorm(linthresh=1,vmin=inc_min,vmax=inc_max)))\n",
    "    axs[-1].set_title('Increment w/ Perturbation={}'.format(noise_level))\n",
    "    plt.colorbar(perts[-1], ax = axs[-1], label='K')\n",
    "\n",
    "axs02 = fig.add_subplot(333)\n",
    "axs.append(axs02)\n",
    "#axs02._shared_y_axes.remove(axs[0, 2])\n",
    "#axs02._shared_x_axes.remove(axs[0, 2])\n",
    "axs02.set_yscale('log')\n",
    "axs02.set_title('MSE vs Perturbation Level')\n",
    "#mse_arr = np.zeros(len(noise_mses))\n",
    "mse_arr = []\n",
    "print('mse_arr :',mse_arr)\n",
    "print('noise_mses :',noise_mses)\n",
    "noise_levels_str = []\n",
    "for idx,noise_level in enumerate(noise_levels[1:]):\n",
    "    mse_arr.append(noise_mses[noise_level])\n",
    "    noise_levels_str.append(str(noise_level))\n",
    "print('mse_arr :',mse_arr)\n",
    "#mse_scat = axs[0, 2].scatter(noise_levels[1:],mse_arr)\n",
    "#mse_scat = axs[0, 2].bar(np.arange(len(noise_levels[1:])),noise_levels[1:],legend=mse_arr)\n",
    "#mse_scat = axs[0, 2].bar(np.arange(len(noise_levels[1:])),noise_levels[1:])\n",
    "mse_scat = axs02.bar(noise_levels_str,mse_arr)\n",
    "#axs[0, 2].set_xlabel(noise_levels[1:])\n",
    "\n",
    "plt.suptitle('Effects of Perturbations on 240hr Forecast')\n",
    "plt.savefig(save_dir+'perturb_sameCMap_240hr.png')\n",
    "\n"
   ]
  },
  {
   "cell_type": "code",
   "execution_count": 27,
   "metadata": {},
   "outputs": [],
   "source": [
    "forecasts_raw = h5py.File(os.path.join(forecast_dir,'raw_0000.h5'),'r')\n",
    "forecasts_norm = h5py.File(os.path.join(forecast_dir,'norm_0000.h5'),'r')\n",
    "gt_0 = h5py.File(os.path.join(era5_dir,'2017_0000.h5'),'r')\n",
    "gt_6 = h5py.File(os.path.join(era5_dir,'2017_0001.h5'),'r')"
   ]
  },
  {
   "cell_type": "code",
   "execution_count": 28,
   "metadata": {},
   "outputs": [
    {
     "name": "stdout",
     "output_type": "stream",
     "text": [
      "diff_init : 0.0\n",
      "diff_pred_vs_gt : 305.671875\n",
      "diff_pred_vs_init : 2019.2266\n"
     ]
    }
   ],
   "source": [
    "# This Validates the forecasts in /stormer/stormer_forecasts_2017_norm/ vs ground truth\n",
    "\n",
    "diff_init = forecasts_raw['0'][:] - read_era5(gt_0,vars_stormer)\n",
    "print('diff_init :',np.max(diff_init))\n",
    "diff_pred_vs_gt = forecasts_raw['6'][:] - read_era5(gt_6,vars_stormer)\n",
    "print('diff_pred_vs_gt :',np.max(diff_pred_vs_gt))\n",
    "diff_pred_vs_init = forecasts_raw['6'][:] - forecasts_raw['0'][:]\n",
    "print('diff_pred_vs_init :',np.max(diff_pred_vs_init))"
   ]
  },
  {
   "cell_type": "code",
   "execution_count": null,
   "metadata": {},
   "outputs": [],
   "source": []
  }
 ],
 "metadata": {
  "kernelspec": {
   "display_name": "climaX",
   "language": "python",
   "name": "climax"
  },
  "language_info": {
   "codemirror_mode": {
    "name": "ipython",
    "version": 3
   },
   "file_extension": ".py",
   "mimetype": "text/x-python",
   "name": "python",
   "nbconvert_exporter": "python",
   "pygments_lexer": "ipython3",
   "version": "3.8.16"
  }
 },
 "nbformat": 4,
 "nbformat_minor": 2
}
