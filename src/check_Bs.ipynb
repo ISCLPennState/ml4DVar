{
 "cells": [
  {
   "cell_type": "code",
   "execution_count": 13,
   "metadata": {},
   "outputs": [],
   "source": [
    "import numpy as np\n",
    "import sys\n",
    "import os\n",
    "import matplotlib.pyplot as plt\n",
    "%matplotlib inline"
   ]
  },
  {
   "cell_type": "code",
   "execution_count": 14,
   "metadata": {},
   "outputs": [],
   "source": [
    "b_pth = '/eagle/MDClimSim/mjp5595/ml4dvar/stormer/'\n",
    "\n",
    "b_old = np.load(os.path.join(b_pth,'background_24hr_diff_sh_coeffs_var_stormer_standardized_128_uv.npy'))\n",
    "b_12 = np.load(os.path.join(b_pth,'sh_12hr_stormer_norm.npy'))\n",
    "b_24 = np.load(os.path.join(b_pth,'sh_24hr_stormer_norm.npy'))\n",
    "b_72 = np.load(os.path.join(b_pth,'sh_72hr_stormer_norm.npy'))\n",
    "b_144 = np.load(os.path.join(b_pth,'sh_144hr_stormer_norm.npy'))\n",
    "b_192 = np.load(os.path.join(b_pth,'sh_192hr_stormer_norm.npy'))\n",
    "b_12_raw = np.load(os.path.join(b_pth,'sh_12hr_stormer_raw_norm.npy'))\n",
    "b_24_raw = np.load(os.path.join(b_pth,'sh_24hr_stormer_raw_norm.npy'))\n",
    "b_72_raw = np.load(os.path.join(b_pth,'sh_72hr_stormer_raw_norm.npy'))\n",
    "b_144_raw = np.load(os.path.join(b_pth,'sh_144hr_stormer_raw_norm.npy'))\n",
    "b_192_raw = np.load(os.path.join(b_pth,'sh_192hr_stormer_raw_norm.npy'))"
   ]
  },
  {
   "cell_type": "code",
   "execution_count": 18,
   "metadata": {},
   "outputs": [
    {
     "name": "stdout",
     "output_type": "stream",
     "text": [
      "diff_old min,mean,max : -0.015739758777294482 -0.0005418442574840976 4.414272359290848e-05\n",
      "diff_192_24 min,mean,max : -0.0003803438801047189 4.5747362623729514e-05 0.007152533230231648\n",
      "diff_24_12 min,mean,max : -0.0005077042723258124 9.018808567702434e-06 0.0005212370156374073\n"
     ]
    }
   ],
   "source": [
    "diff_old = b_24 - b_old\n",
    "print('diff_old min,mean,max :',np.min(diff_old),np.mean(diff_old),np.max(diff_old))\n",
    "diff_192_24 = b_192 - b_24\n",
    "print('diff_192_24 min,mean,max :',np.min(diff_192_24),np.mean(diff_192_24),np.max(diff_192_24))\n",
    "diff_24_12 = b_24 - b_12\n",
    "print('diff_24_12 min,mean,max :',np.min(diff_24_12),np.mean(diff_24_12),np.max(diff_24_12))"
   ]
  },
  {
   "cell_type": "code",
   "execution_count": 16,
   "metadata": {},
   "outputs": [
    {
     "name": "stdout",
     "output_type": "stream",
     "text": [
      "diff_raw_vs_norm_24 min,mean,max : -7.469437449201394e-11 -1.859815682247665e-13 5.0417286122893257e-11\n"
     ]
    }
   ],
   "source": [
    "diff_raw_vs_norm_24 = b_24_raw - b_24\n",
    "print('diff_raw_vs_norm_24 min,mean,max :',np.min(diff_raw_vs_norm_24),np.mean(diff_raw_vs_norm_24),np.max(diff_raw_vs_norm_24))"
   ]
  },
  {
   "cell_type": "code",
   "execution_count": null,
   "metadata": {},
   "outputs": [],
   "source": []
  }
 ],
 "metadata": {
  "kernelspec": {
   "display_name": "climaX",
   "language": "python",
   "name": "climax"
  },
  "language_info": {
   "codemirror_mode": {
    "name": "ipython",
    "version": 3
   },
   "file_extension": ".py",
   "mimetype": "text/x-python",
   "name": "python",
   "nbconvert_exporter": "python",
   "pygments_lexer": "ipython3",
   "version": "3.8.16"
  }
 },
 "nbformat": 4,
 "nbformat_minor": 2
}
